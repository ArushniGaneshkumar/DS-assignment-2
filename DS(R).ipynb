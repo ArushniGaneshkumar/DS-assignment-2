{
  "nbformat": 4,
  "nbformat_minor": 0,
  "metadata": {
    "colab": {
      "provenance": []
    },
    "kernelspec": {
      "name": "ir",
      "display_name": "R"
    },
    "language_info": {
      "name": "R"
    }
  },
  "cells": [
    {
      "cell_type": "code",
      "execution_count": 4,
      "metadata": {
        "id": "uvtcTYraW8cS"
      },
      "outputs": [],
      "source": [
        "# R Analysis (Heart Disease Dataset)\n",
        "df <- read.csv(\"/content/Heart.csv\")"
      ]
    },
    {
      "cell_type": "markdown",
      "source": [
        "# 1. Compute mean, median, variance for age"
      ],
      "metadata": {
        "id": "uIZKB_rRXN9V"
      }
    },
    {
      "cell_type": "code",
      "source": [
        "# Convert target (AHD: Yes/No → 1/0)\n",
        "df$AHD <- ifelse(df$AHD == \"Yes\", 1, 0)\n",
        "\n",
        "# 1. Compute mean, median, variance for Age (note: capital A)\n",
        "mean_age <- mean(df$Age, na.rm=TRUE)\n",
        "median_age <- median(df$Age, na.rm=TRUE)\n",
        "var_age <- var(df$Age, na.rm=TRUE)\n",
        "\n",
        "print(paste(\"Mean Age:\", mean_age))\n",
        "print(paste(\"Median Age:\", median_age))\n",
        "print(paste(\"Variance of Age:\", var_age))"
      ],
      "metadata": {
        "colab": {
          "base_uri": "https://localhost:8080/"
        },
        "id": "pOi_Y7JXXFex",
        "outputId": "06c9843c-a068-48f4-c8bd-716225bb5b1f"
      },
      "execution_count": 6,
      "outputs": [
        {
          "output_type": "stream",
          "name": "stdout",
          "text": [
            "[1] \"Mean Age: 54.4389438943894\"\n",
            "[1] \"Median Age: 56\"\n",
            "[1] \"Variance of Age: 81.6974187484974\"\n"
          ]
        }
      ]
    },
    {
      "cell_type": "code",
      "source": [
        "# 2. ggplot bar chart (sex distribution)\n",
        "library(ggplot2)\n",
        "ggplot(df, aes(x=factor(Sex))) +\n",
        "  geom_bar(fill=\"steelblue\") +\n",
        "  labs(title=\"Sex Distribution\", x=\"Sex (0=Female, 1=Male)\", y=\"Count\")\n"
      ],
      "metadata": {
        "colab": {
          "base_uri": "https://localhost:8080/",
          "height": 437
        },
        "id": "AsrEPZLQXFhq",
        "outputId": "994d4c61-38a2-4299-9482-b1afa6efc644"
      },
      "execution_count": 8,
      "outputs": [
        {
          "output_type": "display_data",
          "data": {
            "text/plain": [
              "plot without title"
            ],
            "image/png": "[encoded data removed]"
          },
          "metadata": {
            "image/png": {
              "width": 420,
              "height": 420
            }
          }
        }
      ]
    }
  ]
}
{
  "nbformat": 4,
  "nbformat_minor": 0,
  "metadata": {
    "colab": {
      "provenance": []
    },
    "kernelspec": {
      "name": "python3",
      "display_name": "Python 3"
    },
    "language_info": {
      "name": "python"
    }
  },
  "cells": [
    {
      "cell_type": "code",
      "execution_count": 1,
      "metadata": {
        "id": "VP2MeoZLVK6D"
      },
      "outputs": [],
      "source": [
        "# Python Analysis (Heart Disease Dataset)\n",
        "import pandas as pd\n",
        "import matplotlib.pyplot as plt"
      ]
    },
    {
      "cell_type": "code",
      "source": [
        "# Load dataset\n",
        "df = pd.read_csv(\"/content/Heart.csv\")"
      ],
      "metadata": {
        "id": "wRppZ44pVLls"
      },
      "execution_count": 2,
      "outputs": []
    },
    {
      "cell_type": "markdown",
      "source": [
        "#  1. Count missing values"
      ],
      "metadata": {
        "id": "E8UGJhQrVcel"
      }
    },
    {
      "cell_type": "code",
      "source": [
        "\n",
        "print(\"Missing values:\\n\", df.isnull().sum())"
      ],
      "metadata": {
        "colab": {
          "base_uri": "https://localhost:8080/"
        },
        "id": "qfXFBaX9VLov",
        "outputId": "b966ffe0-7964-47f0-9554-708c07288eae"
      },
      "execution_count": 3,
      "outputs": [
        {
          "output_type": "stream",
          "name": "stdout",
          "text": [
            "Missing values:\n",
            " Unnamed: 0    0\n",
            "Age           0\n",
            "Sex           0\n",
            "ChestPain     0\n",
            "RestBP        0\n",
            "Chol          0\n",
            "Fbs           0\n",
            "RestECG       0\n",
            "MaxHR         0\n",
            "ExAng         0\n",
            "Oldpeak       0\n",
            "Slope         0\n",
            "Ca            4\n",
            "Thal          2\n",
            "AHD           0\n",
            "dtype: int64\n"
          ]
        }
      ]
    },
    {
      "cell_type": "markdown",
      "source": [
        "# 2. Show top 3 correlations"
      ],
      "metadata": {
        "id": "tnmrIPWOVhFf"
      }
    },
    {
      "cell_type": "code",
      "source": [
        "print(df.columns)\n"
      ],
      "metadata": {
        "colab": {
          "base_uri": "https://localhost:8080/"
        },
        "id": "1hkwq2atV01E",
        "outputId": "58f26eb8-ba68-42f1-a0d0-d0e2f94e329c"
      },
      "execution_count": 6,
      "outputs": [
        {
          "output_type": "stream",
          "name": "stdout",
          "text": [
            "Index(['Unnamed: 0', 'Age', 'Sex', 'ChestPain', 'RestBP', 'Chol', 'Fbs',\n",
            "       'RestECG', 'MaxHR', 'ExAng', 'Oldpeak', 'Slope', 'Ca', 'Thal', 'AHD'],\n",
            "      dtype='object')\n"
          ]
        }
      ]
    },
    {
      "cell_type": "code",
      "source": [
        "\n",
        "corr = df.corr(numeric_only=True)\n",
        "top_corr = corr.unstack().sort_values(ascending=False)\n"
      ],
      "metadata": {
        "id": "zMMoiaGvVLtL"
      },
      "execution_count": 8,
      "outputs": []
    },
    {
      "cell_type": "code",
      "source": [
        "# Remove self correlations\n",
        "top_corr = top_corr[top_corr < 1]\n",
        "print(\"\\nTop 3 correlations:\")\n",
        "print(top_corr.drop_duplicates().head(3))\n"
      ],
      "metadata": {
        "colab": {
          "base_uri": "https://localhost:8080/"
        },
        "id": "Ue9SC9n_VLv3",
        "outputId": "c027a949-69a2-43aa-fa38-b8d465cdb465"
      },
      "execution_count": 9,
      "outputs": [
        {
          "output_type": "stream",
          "name": "stdout",
          "text": [
            "\n",
            "Top 3 correlations:\n",
            "Slope    Oldpeak    0.577537\n",
            "Age      Ca         0.362605\n",
            "Oldpeak  Ca         0.295832\n",
            "dtype: float64\n"
          ]
        }
      ]
    },
    {
      "cell_type": "markdown",
      "source": [
        "# 3. Plot one histogram (example: age distribution)"
      ],
      "metadata": {
        "id": "tUfnbQYtWT6Q"
      }
    },
    {
      "cell_type": "code",
      "source": [
        "plt.hist(df['Age'], bins=20, edgecolor='black')\n",
        "plt.title(\"Age Distribution\")\n",
        "plt.xlabel(\"Age\")\n",
        "plt.ylabel(\"Count\")\n",
        "plt.show()"
      ],
      "metadata": {
        "colab": {
          "base_uri": "https://localhost:8080/",
          "height": 472
        },
        "id": "l81Z1vwzVLyT",
        "outputId": "e8948c58-4e96-4d11-e651-d24bc7dba81a"
      },
      "execution_count": 11,
      "outputs": [
        {
          "output_type": "display_data",
          "data": {
            "text/plain": [
              "<Figure size 640x480 with 1 Axes>"
            ],
            "image/png": "[encoded data removed]"
          },
          "metadata": {}
        }
      ]
    }
  ]
}